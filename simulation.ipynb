{
 "cells": [
  {
   "cell_type": "code",
   "execution_count": 1,
   "metadata": {},
   "outputs": [],
   "source": [
    "import blackjack_game as bjg\n",
    "import pandas as pd\n",
    "import numpy as np\n",
    "\n",
    "import seaborn as sns\n",
    "import matplotlib.pyplot as plt\n",
    "%matplotlib inline"
   ]
  },
  {
   "cell_type": "code",
   "execution_count": 2,
   "metadata": {},
   "outputs": [],
   "source": [
    "sim_store = {}"
   ]
  },
  {
   "cell_type": "code",
   "execution_count": 3,
   "metadata": {},
   "outputs": [],
   "source": [
    "G = bjg.Game(bet=100,funds=10000,deck_num=1)"
   ]
  },
  {
   "cell_type": "code",
   "execution_count": null,
   "metadata": {},
   "outputs": [],
   "source": [
    "for i in range(100):\n",
    "    basic_strat_dict = {'Funds':[10000], 'initial_sum':[np.nan], 'hold_card':[np.nan], \n",
    "                    'player_sum': [np.nan], 'dealer_sum':[np.nan], 'decision':[np.nan]}\n",
    "    \n",
    "    for _ in range(round(1e5)):\n",
    "        funds, count, bet, dealer_hand, player_hand = G.blackjack()\n",
    "        hole_card = dealer_hand[0]\n",
    "        initial_value = bjg.sum_hand(hand=player_hand[:2])\n",
    "\n",
    "        final_d = bjg.sum_hand(dealer_hand) \n",
    "        final_p = bjg.sum_hand(player_hand)\n",
    "        decision = bjg.find_winner(final_p, final_d)\n",
    "\n",
    "        basic_strat_dict['Funds'].append(funds)\n",
    "        basic_strat_dict['initial_sum'].append(initial_value)\n",
    "        basic_strat_dict['hold_card'].append(hole_card)\n",
    "        basic_strat_dict['player_sum'].append(final_p)\n",
    "        basic_strat_dict['dealer_sum'].append(final_d)\n",
    "        basic_strat_dict['decision'].append(decision)\n",
    "    \n",
    "    sim_store[i] = basic_strat_dict\n",
    "    "
   ]
  },
  {
   "cell_type": "code",
   "execution_count": null,
   "metadata": {},
   "outputs": [],
   "source": [
    "df = pd.DataFrame(sim_store)"
   ]
  },
  {
   "cell_type": "code",
   "execution_count": null,
   "metadata": {},
   "outputs": [],
   "source": [
    "df.head(10)"
   ]
  },
  {
   "cell_type": "code",
   "execution_count": null,
   "metadata": {},
   "outputs": [],
   "source": []
  },
  {
   "cell_type": "code",
   "execution_count": null,
   "metadata": {},
   "outputs": [],
   "source": []
  },
  {
   "cell_type": "code",
   "execution_count": null,
   "metadata": {},
   "outputs": [],
   "source": []
  },
  {
   "cell_type": "code",
   "execution_count": 25,
   "metadata": {},
   "outputs": [
    {
     "data": {
      "text/plain": [
       "{2.0: 45424,\n",
       " 4.0: 45338,\n",
       " 5.0: 120711,\n",
       " 6.0: 165676,\n",
       " 7.0: 241583,\n",
       " 8.0: 286572,\n",
       " 9.0: 362691,\n",
       " 10.0: 407229,\n",
       " 11.0: 482771,\n",
       " 12.0: 889582,\n",
       " 13.0: 965612,\n",
       " 14.0: 890474,\n",
       " 15.0: 843840,\n",
       " 16.0: 768828,\n",
       " 17.0: 724489,\n",
       " 18.0: 648033,\n",
       " 19.0: 602392,\n",
       " 20.0: 1027182,\n",
       " 21.0: 481573}"
      ]
     },
     "execution_count": 25,
     "metadata": {},
     "output_type": "execute_result"
    }
   ],
   "source": [
    "df.groupby(by='initial_sum')['initial_sum'].count().to_dict()"
   ]
  },
  {
   "cell_type": "code",
   "execution_count": 27,
   "metadata": {},
   "outputs": [
    {
     "data": {
      "text/plain": [
       "{2.0: -3.0,\n",
       " 4.0: -26.0,\n",
       " 5.0: -110.0,\n",
       " 6.0: -144.0,\n",
       " 7.0: -178.0,\n",
       " 8.0: -105.0,\n",
       " 9.0: -72.0,\n",
       " 10.0: 104.0,\n",
       " 11.0: 134.0,\n",
       " 12.0: -544.0,\n",
       " 13.0: -607.0,\n",
       " 14.0: -523.0,\n",
       " 15.0: -617.0,\n",
       " 16.0: -489.0,\n",
       " 17.0: -445.0,\n",
       " 18.0: 54.0,\n",
       " 19.0: 495.0,\n",
       " 20.0: 1514.0,\n",
       " 21.0: 944.0}"
      ]
     },
     "execution_count": 27,
     "metadata": {},
     "output_type": "execute_result"
    }
   ],
   "source": [
    "df[df['Funds'] > 0].groupby(by='initial_sum')['decision'].sum().to_dict()"
   ]
  },
  {
   "cell_type": "code",
   "execution_count": 28,
   "metadata": {},
   "outputs": [
    {
     "data": {
      "text/plain": [
       "{2.0: 9,\n",
       " 4.0: 64,\n",
       " 5.0: 290,\n",
       " 6.0: 328,\n",
       " 7.0: 545,\n",
       " 8.0: 653,\n",
       " 9.0: 859,\n",
       " 10.0: 943,\n",
       " 11.0: 1071,\n",
       " 12.0: 2025,\n",
       " 13.0: 2236,\n",
       " 14.0: 2022,\n",
       " 15.0: 1974,\n",
       " 16.0: 1666,\n",
       " 17.0: 1667,\n",
       " 18.0: 1488,\n",
       " 19.0: 1375,\n",
       " 20.0: 2270,\n",
       " 21.0: 1091}"
      ]
     },
     "execution_count": 28,
     "metadata": {},
     "output_type": "execute_result"
    }
   ],
   "source": [
    "df[df['Funds'] > 0].groupby(by='initial_sum')['decision'].count().to_dict()"
   ]
  },
  {
   "cell_type": "code",
   "execution_count": null,
   "metadata": {},
   "outputs": [],
   "source": []
  }
 ],
 "metadata": {
  "kernelspec": {
   "display_name": "Python 3",
   "language": "python",
   "name": "python3"
  },
  "language_info": {
   "codemirror_mode": {
    "name": "ipython",
    "version": 3
   },
   "file_extension": ".py",
   "mimetype": "text/x-python",
   "name": "python",
   "nbconvert_exporter": "python",
   "pygments_lexer": "ipython3",
   "version": "3.7.0"
  }
 },
 "nbformat": 4,
 "nbformat_minor": 2
}
